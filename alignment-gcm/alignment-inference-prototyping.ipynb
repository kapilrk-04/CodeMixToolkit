{
 "cells": [
  {
   "cell_type": "code",
   "execution_count": 8,
   "metadata": {},
   "outputs": [],
   "source": [
    "import os"
   ]
  },
  {
   "cell_type": "code",
   "execution_count": 9,
   "metadata": {},
   "outputs": [],
   "source": [
    "input_loc = \"/CodeMixed-Text-Generator/CodeMixed-Text-Generator/data/\"\n",
    "lang1_in_file = \"hi-to-en-input_lang1\"\n",
    "lang2_in_file = \"hi-to-en-input_lang2\""
   ]
  },
  {
   "cell_type": "code",
   "execution_count": 23,
   "metadata": {},
   "outputs": [],
   "source": [
    "input_loc = \"/CodeMixed-Text-Generator/CodeMixed-Text-Generator/data/samanantar_filtered\"\n",
    "lang1_in_file = \"samanantar-filtered-hi\"\n",
    "lang2_in_file = \"samanantar-filtered-en\""
   ]
  },
  {
   "cell_type": "code",
   "execution_count": 10,
   "metadata": {},
   "outputs": [],
   "source": [
    "def read_data(input_loc, lang1_in_file, lang2_in_file):\n",
    "    with open(os.path.join(input_loc, lang1_in_file), \"r\") as f:\n",
    "        lang1_in = f.read().strip().split(\"\\n\")\n",
    "    with open(os.path.join(input_loc, lang2_in_file), \"r\") as f:\n",
    "        lang2_in = f.read().strip().split(\"\\n\")\n",
    "    return lang1_in, lang2_in"
   ]
  },
  {
   "cell_type": "code",
   "execution_count": 24,
   "metadata": {},
   "outputs": [],
   "source": [
    "lang1_in, lang2_in = read_data(input_loc, lang1_in_file, lang2_in_file)"
   ]
  },
  {
   "cell_type": "code",
   "execution_count": 25,
   "metadata": {},
   "outputs": [],
   "source": [
    "tmpdir = \"./\"\n",
    "\n",
    "with open(\"{}/parallel_samanantar_filtered\".format(tmpdir), \"w\") as f:\n",
    "    lines = [\"{} ||| {}\".format(lang1_s, lang2_s) for lang1_s, lang2_s in zip(lang1_in, lang2_in)]\n",
    "    f.write(\"\\n\".join(lines))"
   ]
  },
  {
   "cell_type": "code",
   "execution_count": null,
   "metadata": {},
   "outputs": [],
   "source": [
    "First step, run:\n",
    "fast_align -i corpus.f-e -d -v -o -p fwd_params >fwd_align 2>fwd_err\n",
    "fast_align -i corpus.f-e -r -d -v -o -p rev_params >rev_align 2>rev_err\n",
    "where corpus.f-e is training corpus, fwd_prarams, fwd_err, rev_params, rev_err are the saved models. Do not remove fwd_error and rev_error!\n",
    "\n",
    "Second step:\n",
    "run:\n",
    "force_align.py fwd_params fwd_err rev_params rev_err [heuristic] <in.f-e >out.f-e.gdfa\n",
    "\n",
    "where heuristic is one of: (intersect union grow-diag grow-diag-final grow-diag-final-and) \n",
    "    \n",
    "    default=grow-diag-final-and , \n",
    "    in.f-e is the file which you want to get alignment."
   ]
  },
  {
   "cell_type": "code",
   "execution_count": 2,
   "metadata": {},
   "outputs": [],
   "source": [
    "!/CodeMixed-Text-Generator/CodeMixed-Text-Generator/alignment_generator/fast_align-master/build/fast_align -i parallel_samanantar_filtered -d -v -o -p fwd_params >fwd_align 2>fwd_err\n",
    "!/CodeMixed-Text-Generator/CodeMixed-Text-Generator/alignment_generator/fast_align-master/build/fast_align -i parallel_samanantar_filtered -r -d -v -o -p rev_params >rev_align 2>rev_err"
   ]
  },
  {
   "cell_type": "code",
   "execution_count": null,
   "metadata": {},
   "outputs": [],
   "source": [
    "/CodeMixed-Text-Generator/CodeMixed-Text-Generator/alignment_generator/fast_align-master/build/force_align.py fwd_params fwd_err rev_params rev_err grow-diag-final-and <in.f-e >out.f-e.gdfa-sam\n"
   ]
  },
  {
   "cell_type": "code",
   "execution_count": 1,
   "metadata": {},
   "outputs": [
    {
     "name": "stdout",
     "output_type": "stream",
     "text": [
      "\u001b[0m\u001b[01;34m__pycache__\u001b[0m/                           out.f-e.gdfa-sam\r\n",
      "aligner.py                             parallel\r\n",
      "alignment-inference-prototyping.ipynb  parallel_run.py\r\n",
      "\u001b[01;34malignment_generator\u001b[0m/                   parallel_samanantar_filtered\r\n",
      "\u001b[01;34mcm_text_generator\u001b[0m/                     pre_gcm.py\r\n",
      "config.ini                             requirements.txt\r\n",
      "\u001b[01;34mdata\u001b[0m/                                  rev_align\r\n",
      "fwd_align                              rev_err\r\n",
      "fwd_err                                rev_params\r\n",
      "fwd_params                             sequence_run.py\r\n",
      "gcm.py                                 \u001b[01;34mservices\u001b[0m/\r\n",
      "in.f-e                                 \u001b[01;34mstanford_parser\u001b[0m/\r\n",
      "\u001b[01;34mlibrary\u001b[0m/                               \u001b[01;34mutils\u001b[0m/\r\n",
      "out.f-e.gdfa                           \u001b[01;34mweb\u001b[0m/\r\n"
     ]
    }
   ],
   "source": [
    "ls"
   ]
  },
  {
   "cell_type": "code",
   "execution_count": 1,
   "metadata": {},
   "outputs": [],
   "source": [
    "from flask import Blueprint, render_template, request, jsonify, flash\n",
    "import requests\n",
    "import json\n",
    "from tqdm import tqdm\n",
    "import time\n",
    "import pandas as pd\n",
    "import sys, os\n",
    "\n",
    "\n"
   ]
  },
  {
   "cell_type": "code",
   "execution_count": 2,
   "metadata": {},
   "outputs": [
    {
     "name": "stdout",
     "output_type": "stream",
     "text": [
      "<Response [200]>\n"
     ]
    }
   ],
   "source": [
    "l1 = \"और कार्यक्रम लागू किया गया है\"\n",
    "l2 = \"And the program has been implemented\"\n",
    "td = {'l1':l1, 'l2':l2}\n",
    "apiendpoint = \"http://127.0.0.1:6000/statistical_aligner_enhi\"\n",
    "\n",
    "response = requests.post(apiendpoint, json = td)\n",
    "\n",
    "print(response)\n",
    "\n",
    "print(response.json())"
   ]
  },
  {
   "cell_type": "code",
   "execution_count": null,
   "metadata": {},
   "outputs": [],
   "source": []
  }
 ],
 "metadata": {
  "kernelspec": {
   "display_name": "gcm-venv",
   "language": "python",
   "name": "gcm-venv"
  },
  "language_info": {
   "codemirror_mode": {
    "name": "ipython",
    "version": 3
   },
   "file_extension": ".py",
   "mimetype": "text/x-python",
   "name": "python",
   "nbconvert_exporter": "python",
   "pygments_lexer": "ipython3",
   "version": "3.7.7"
  }
 },
 "nbformat": 4,
 "nbformat_minor": 4
}
