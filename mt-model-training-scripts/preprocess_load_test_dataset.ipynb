{
 "cells": [
  {
   "cell_type": "markdown",
   "metadata": {},
   "source": [
    "## Pre-requisites\n",
    "\n",
    "- Installing datasets and other modules\n",
    "- Connecting to huggingface hub\n",
    "- Changing current directory to eval_datasets (local)"
   ]
  },
  {
   "cell_type": "code",
   "execution_count": 1,
   "metadata": {
    "colab": {
     "base_uri": "https://localhost:8080/"
    },
    "id": "I-ljMlM-CV4F",
    "outputId": "7df13d02-cfb4-4786-98cb-d258ee1fcd22"
   },
   "outputs": [
    {
     "name": "stdout",
     "output_type": "stream",
     "text": [
      "Requirement already satisfied: datasets in c:\\users\\kapil\\anaconda3\\lib\\site-packages (2.13.1)\n",
      "Requirement already satisfied: transformers[sentencepiece] in c:\\users\\kapil\\anaconda3\\lib\\site-packages (4.30.2)\n",
      "Requirement already satisfied: sacrebleu in c:\\users\\kapil\\anaconda3\\lib\\site-packages (2.3.1)\n",
      "Requirement already satisfied: multiprocess in c:\\users\\kapil\\anaconda3\\lib\\site-packages (from datasets) (0.70.14)\n",
      "Requirement already satisfied: packaging in c:\\users\\kapil\\anaconda3\\lib\\site-packages (from datasets) (23.0)\n",
      "Requirement already satisfied: requests>=2.19.0 in c:\\users\\kapil\\anaconda3\\lib\\site-packages (from datasets) (2.28.1)\n",
      "Requirement already satisfied: pyarrow>=8.0.0 in c:\\users\\kapil\\anaconda3\\lib\\site-packages (from datasets) (12.0.1)\n",
      "Requirement already satisfied: aiohttp in c:\\users\\kapil\\anaconda3\\lib\\site-packages (from datasets) (3.8.4)\n",
      "Requirement already satisfied: fsspec[http]>=2021.11.1 in c:\\users\\kapil\\anaconda3\\lib\\site-packages (from datasets) (2023.6.0)\n",
      "Requirement already satisfied: dill<0.3.7,>=0.3.0 in c:\\users\\kapil\\anaconda3\\lib\\site-packages (from datasets) (0.3.6)\n",
      "Requirement already satisfied: tqdm>=4.62.1 in c:\\users\\kapil\\anaconda3\\lib\\site-packages (from datasets) (4.65.0)\n",
      "Requirement already satisfied: pandas in c:\\users\\kapil\\anaconda3\\lib\\site-packages (from datasets) (2.0.3)\n",
      "Requirement already satisfied: xxhash in c:\\users\\kapil\\anaconda3\\lib\\site-packages (from datasets) (3.2.0)\n",
      "Requirement already satisfied: huggingface-hub<1.0.0,>=0.11.0 in c:\\users\\kapil\\anaconda3\\lib\\site-packages (from datasets) (0.16.4)\n",
      "Requirement already satisfied: pyyaml>=5.1 in c:\\users\\kapil\\anaconda3\\lib\\site-packages (from datasets) (6.0)\n",
      "Requirement already satisfied: numpy>=1.17 in c:\\users\\kapil\\anaconda3\\lib\\site-packages (from datasets) (1.23.5)\n",
      "Requirement already satisfied: regex!=2019.12.17 in c:\\users\\kapil\\anaconda3\\lib\\site-packages (from transformers[sentencepiece]) (2023.6.3)\n",
      "Requirement already satisfied: filelock in c:\\users\\kapil\\anaconda3\\lib\\site-packages (from transformers[sentencepiece]) (3.12.1)\n",
      "Requirement already satisfied: safetensors>=0.3.1 in c:\\users\\kapil\\anaconda3\\lib\\site-packages (from transformers[sentencepiece]) (0.3.1)\n",
      "Requirement already satisfied: tokenizers!=0.11.3,<0.14,>=0.11.1 in c:\\users\\kapil\\anaconda3\\lib\\site-packages (from transformers[sentencepiece]) (0.13.3)\n",
      "Requirement already satisfied: sentencepiece!=0.1.92,>=0.1.91 in c:\\users\\kapil\\anaconda3\\lib\\site-packages (from transformers[sentencepiece]) (0.1.99)\n",
      "Requirement already satisfied: protobuf<=3.20.3 in c:\\users\\kapil\\anaconda3\\lib\\site-packages (from transformers[sentencepiece]) (3.19.6)\n",
      "Requirement already satisfied: portalocker in c:\\users\\kapil\\anaconda3\\lib\\site-packages (from sacrebleu) (2.7.0)\n",
      "Requirement already satisfied: lxml in c:\\users\\kapil\\anaconda3\\lib\\site-packages (from sacrebleu) (4.9.2)\n",
      "Requirement already satisfied: tabulate>=0.8.9 in c:\\users\\kapil\\anaconda3\\lib\\site-packages (from sacrebleu) (0.9.0)\n",
      "Requirement already satisfied: colorama in c:\\users\\kapil\\anaconda3\\lib\\site-packages (from sacrebleu) (0.4.6)\n",
      "Requirement already satisfied: yarl<2.0,>=1.0 in c:\\users\\kapil\\anaconda3\\lib\\site-packages (from aiohttp->datasets) (1.9.2)\n",
      "Requirement already satisfied: charset-normalizer<4.0,>=2.0 in c:\\users\\kapil\\anaconda3\\lib\\site-packages (from aiohttp->datasets) (2.0.4)\n",
      "Requirement already satisfied: frozenlist>=1.1.1 in c:\\users\\kapil\\anaconda3\\lib\\site-packages (from aiohttp->datasets) (1.4.0)\n",
      "Requirement already satisfied: aiosignal>=1.1.2 in c:\\users\\kapil\\anaconda3\\lib\\site-packages (from aiohttp->datasets) (1.3.1)\n",
      "Requirement already satisfied: multidict<7.0,>=4.5 in c:\\users\\kapil\\anaconda3\\lib\\site-packages (from aiohttp->datasets) (6.0.4)\n",
      "Requirement already satisfied: attrs>=17.3.0 in c:\\users\\kapil\\anaconda3\\lib\\site-packages (from aiohttp->datasets) (22.1.0)\n",
      "Requirement already satisfied: async-timeout<5.0,>=4.0.0a3 in c:\\users\\kapil\\anaconda3\\lib\\site-packages (from aiohttp->datasets) (4.0.2)\n",
      "Requirement already satisfied: typing-extensions>=3.7.4.3 in c:\\users\\kapil\\anaconda3\\lib\\site-packages (from huggingface-hub<1.0.0,>=0.11.0->datasets) (4.6.3)\n",
      "Requirement already satisfied: idna<4,>=2.5 in c:\\users\\kapil\\anaconda3\\lib\\site-packages (from requests>=2.19.0->datasets) (3.4)\n",
      "Requirement already satisfied: urllib3<1.27,>=1.21.1 in c:\\users\\kapil\\anaconda3\\lib\\site-packages (from requests>=2.19.0->datasets) (1.26.15)\n",
      "Requirement already satisfied: certifi>=2017.4.17 in c:\\users\\kapil\\anaconda3\\lib\\site-packages (from requests>=2.19.0->datasets) (2023.5.7)\n",
      "Requirement already satisfied: tzdata>=2022.1 in c:\\users\\kapil\\anaconda3\\lib\\site-packages (from pandas->datasets) (2023.3)\n",
      "Requirement already satisfied: pytz>=2020.1 in c:\\users\\kapil\\anaconda3\\lib\\site-packages (from pandas->datasets) (2022.7)\n",
      "Requirement already satisfied: python-dateutil>=2.8.2 in c:\\users\\kapil\\anaconda3\\lib\\site-packages (from pandas->datasets) (2.8.2)\n",
      "Requirement already satisfied: pywin32>=226 in c:\\users\\kapil\\anaconda3\\lib\\site-packages (from portalocker->sacrebleu) (305.1)\n",
      "Requirement already satisfied: six>=1.5 in c:\\users\\kapil\\anaconda3\\lib\\site-packages (from python-dateutil>=2.8.2->pandas->datasets) (1.16.0)\n"
     ]
    }
   ],
   "source": [
    "!pip install datasets transformers[sentencepiece] sacrebleu"
   ]
  },
  {
   "cell_type": "code",
   "execution_count": 2,
   "metadata": {
    "colab": {
     "base_uri": "https://localhost:8080/",
     "height": 331,
     "referenced_widgets": [
      "da4641c6bd264f738d121b34c1124d02",
      "a769c284891e4424b5b7b554458d71b5",
      "392454974e1d41d290c259ceb1f96844",
      "c439431a77a24691bb577f303d3e23cb",
      "d1e4c48b304e4496ac1c52573b3c82e3",
      "d4146d9f689248f7bdfd9339ccd1d249",
      "7fa87352429c4ea69273c8b99899da16",
      "ed3eb92de4df4c5997f92dadbef9de63",
      "608b690801f94a58b1bb7f54277d6ad3",
      "35d959b6c61646e8acf482474465b5ee",
      "dda9270ae94047aea78c0b1465aed862",
      "63ab2b71cc9f43eab5e80abdd2d84167",
      "961d537b4c5c46cbab9dd4cf3941b019",
      "ad0f3f5b37d046daabd517b92fb45c74",
      "ed3dbe22f1604ca68e7a513836a18e4b",
      "63bc2db4333245c6914f71155168501b",
      "ccac7c3afab34a7e892d88096053abed"
     ]
    },
    "id": "nbIg7x1mCd9x",
    "outputId": "e90baf97-3f8c-42e3-9f72-8e5d08ccc00e"
   },
   "outputs": [
    {
     "data": {
      "application/vnd.jupyter.widget-view+json": {
       "model_id": "416777be8e5e4443b109585f5975726c",
       "version_major": 2,
       "version_minor": 0
      },
      "text/plain": [
       "VBox(children=(HTML(value='<center> <img\\nsrc=https://huggingface.co/front/assets/huggingface_logo-noborder.sv…"
      ]
     },
     "metadata": {},
     "output_type": "display_data"
    }
   ],
   "source": [
    "from huggingface_hub import notebook_login\n",
    "\n",
    "notebook_login()"
   ]
  },
  {
   "cell_type": "code",
   "execution_count": 1,
   "metadata": {
    "colab": {
     "base_uri": "https://localhost:8080/"
    },
    "id": "mo4qCbXBClFp",
    "outputId": "a0897a08-15b5-44a7-f0b1-936436e59a34"
   },
   "outputs": [
    {
     "name": "stdout",
     "output_type": "stream",
     "text": [
      "C:\\Users\\Kapil\\Desktop\\codemix\\CodeMixToolkit-Personal\\CodeMixToolkit\\mt-model-training-scripts\\eval_datasets\n"
     ]
    }
   ],
   "source": [
    "%cd eval_datasets"
   ]
  },
  {
   "cell_type": "code",
   "execution_count": 2,
   "metadata": {
    "id": "T53kUzxTPjpU"
   },
   "outputs": [],
   "source": [
    "import json\n",
    "import random\n",
    "from tqdm import tqdm\n",
    "random.seed(0)\n",
    "\n",
    "def strip_ne(sent):\n",
    "\treturn sent.lower().replace('/ne/','')\n",
    "\n",
    "def write_to_file(data1, data2, file):\n",
    "    f = open(file, 'w', encoding=\"utf8\")\n",
    "    l = len(data1)\n",
    "    for i in tqdm(range(l)):\n",
    "      data = {\"id\":str(i+1), \"translation\":{\"hi\":data1[i], \"en-hi\":data2[i]}}\n",
    "      f.write(json.dumps(data, ensure_ascii=False))\n",
    "      f.write(\"\\n\")\n",
    "    print('Wrote %d lines to %s'%(len(data1), file))\n",
    "\n",
    "\n",
    "def process_All_CS():\n",
    "    with open('All-CS.json','r', encoding=\"utf8\") as f:\n",
    "      data = json.load(f)\n",
    "    hi = []\n",
    "    cs = []\n",
    "    ln = 0\n",
    "    for i in range(len(data)):\n",
    "      item = data[i]\n",
    "      if item['split'] == 'train':\n",
    "        mono = item['mono_raw']\n",
    "        cs_sentences = [item['gold']] + item['mturk'] if 'gold' in item.keys() else item['mturk']\n",
    "        # for cs in cs_sentences:\n",
    "        #   hi.append(mono)\n",
    "        #   train_cs.append(strip_ne(cs))\n",
    "        if(len(cs_sentences)>0):\n",
    "          hi.append(mono)\n",
    "          cs.append(strip_ne(cs_sentences[0]))\n",
    "      else:\n",
    "        mono = item['mono_raw']\n",
    "        cs_sent = item['gold'] if 'gold' in item else item['mturk'][0]\n",
    "        hi.append(mono)\n",
    "        cs.append(strip_ne(cs_sent))\n",
    "\n",
    "    write_to_file(hi, cs, \"../hi_enhi_test.json\")\n"
   ]
  },
  {
   "cell_type": "code",
   "execution_count": 3,
   "metadata": {
    "colab": {
     "base_uri": "https://localhost:8080/"
    },
    "id": "EBfiDeK1GxBB",
    "outputId": "d34ea92c-f45f-4636-97dc-655dbf9d0345"
   },
   "outputs": [
    {
     "name": "stdout",
     "output_type": "stream",
     "text": [
      ".ipynb_checkpoints\n",
      "All-CS\n",
      "gluecos-MT_EN_HI\n",
      "lince_mt_enghinglish\n",
      "mrinaldhar_en-hi-codemixed-corpus\n",
      "phinc-dataset\n"
     ]
    }
   ],
   "source": [
    "import os, sys, re\n",
    "from collections import Counter\n",
    "import pandas as pd\n",
    "import json\n",
    "import csv\n",
    "from tqdm import tqdm\n",
    "tqdm.pandas()\n",
    "\n",
    "pd.set_option('display.max_rows', None)\n",
    "pd.set_option('display.max_columns', None)\n",
    "pd.set_option('display.width', 2000)\n",
    "pd.set_option('display.float_format', '{:20,.2f}'.format)\n",
    "pd.set_option('display.max_colwidth', None)\n",
    "\n",
    "en_lines = 1\n",
    "hi_lines = 0\n",
    "\n",
    "cwd = os.getcwd()\n",
    "for ind,file in enumerate(os.listdir(cwd)):\n",
    "  print(file)"
   ]
  },
  {
   "cell_type": "code",
   "execution_count": 4,
   "metadata": {
    "colab": {
     "base_uri": "https://localhost:8080/"
    },
    "id": "xiPAXV8_dgVr",
    "outputId": "618b5a53-55a4-4215-ee19-86c5dc2665aa"
   },
   "outputs": [
    {
     "name": "stderr",
     "output_type": "stream",
     "text": [
      "100%|██████████████████████████████████████████████████████████████████████████████████████████████████████████████████████████████████| 14452/14452 [00:00<00:00, 127907.93it/s]"
     ]
    },
    {
     "name": "stdout",
     "output_type": "stream",
     "text": [
      "Wrote 14452 lines to ../hi_enhi_test.json\n",
      "Processed All-CS\n",
      "After All-CS: en_lines = 1, hi_lines = 14452\n"
     ]
    },
    {
     "name": "stderr",
     "output_type": "stream",
     "text": [
      "\n"
     ]
    }
   ],
   "source": [
    "#Processing All-CS Dataset\n",
    "os.chdir(\"All-CS\")\n",
    "process_All_CS()\n",
    "try:\n",
    "  print(\"Processed All-CS\")\n",
    "except:\n",
    "  os.chdir(\"..\")\n",
    "os.chdir(\"..\")\n",
    "hi_lines = sum(1 for line in open(\"hi_enhi_test.json\", encoding=\"utf8\"))\n",
    "\n",
    "print(\"After All-CS: en_lines = {}, hi_lines = {}\".format(en_lines, hi_lines))"
   ]
  },
  {
   "cell_type": "code",
   "execution_count": 8,
   "metadata": {
    "colab": {
     "base_uri": "https://localhost:8080/"
    },
    "id": "XNV7TBpudm_h",
    "outputId": "19c49793-225c-462a-c750-f323800b2414"
   },
   "outputs": [
    {
     "name": "stdout",
     "output_type": "stream",
     "text": [
      "After GLUECoS: en_lines = 9963, hi_lines = 14452\n"
     ]
    }
   ],
   "source": [
    "#Processing gluecos dataset\n",
    "os.chdir(\"gluecos-MT_EN_HI\")\n",
    "try:\n",
    "    f_train = open('train.txt', encoding=\"utf-8\")\n",
    "    f_test = open('test.txt', encoding=\"utf-8\")\n",
    "    f_valid = open('valid.txt', encoding=\"utf-8\")\n",
    "\n",
    "    fw_en = open(\"../en_enhi_test.json\", 'a', encoding=\"utf8\")\n",
    "    f_lines = f_train.read().splitlines()\n",
    "    for line in f_lines:\n",
    "      ll = line.split(\"\\t\")\n",
    "      en_enhi = {\"id\": str(en_lines),\n",
    "                  \"translation\" : {\"en\":ll[0],\n",
    "                                  \"en-hi\":ll[1]}}\n",
    "      fw_en.write(json.dumps(en_enhi, ensure_ascii=False))\n",
    "      fw_en.write(\"\\n\")\n",
    "      en_lines+=1\n",
    "\n",
    "    f_lines = f_valid.read().splitlines()\n",
    "    for line in f_lines:\n",
    "      ll = line.split(\"\\t\")\n",
    "      en_enhi = {\"id\": str(en_lines),\n",
    "                  \"translation\" : {\"en\":ll[0],\n",
    "                                  \"en-hi\":ll[1]}}\n",
    "      fw_en.write(json.dumps(en_enhi, ensure_ascii=False))\n",
    "      fw_en.write(\"\\n\")\n",
    "      en_lines+=1\n",
    "    \n",
    "    f_lines = f_test.read().splitlines()\n",
    "    for line in f_lines:\n",
    "      ll = line.split(\"\\t\")\n",
    "      en_enhi = {\"id\": str(en_lines),\n",
    "                \"translation\" : {\"en\":ll[0],\n",
    "                                  \"en-hi\":\"\"}}\n",
    "      fw_en.write(json.dumps(en_enhi, ensure_ascii=False))\n",
    "      fw_en.write(\"\\n\")\n",
    "      en_lines+=1\n",
    "\n",
    "    os.chdir(\"..\")\n",
    "    print(\"After GLUECoS: en_lines = {}, hi_lines = {}\".format(en_lines, hi_lines))\n",
    "except:\n",
    "    os.chdir(\"..\")"
   ]
  },
  {
   "cell_type": "code",
   "execution_count": 6,
   "metadata": {
    "colab": {
     "base_uri": "https://localhost:8080/"
    },
    "id": "FE7T6eZSdzrK",
    "outputId": "655a123e-68e6-4e27-b6d6-cd3d1b5ccdef"
   },
   "outputs": [
    {
     "name": "stdout",
     "output_type": "stream",
     "text": [
      "After LinCE: en_lines = 19925, hi_lines = 14452\n"
     ]
    }
   ],
   "source": [
    "#Processing LinCE dataset\n",
    "os.chdir(\"lince_mt_enghinglish\")\n",
    "try:\n",
    "    f_train = open('train.txt',encoding=\"utf-8\")\n",
    "    f_test = open('test.txt','r', encoding=\"utf-8\")\n",
    "    f_valid = open('dev.txt',encoding=\"utf-8\")\n",
    "\n",
    "    fw_en = open(\"../en_enhi_test.json\", 'a', encoding=\"utf-8\")\n",
    "    lns = 0\n",
    "    f_lines = f_train.read().splitlines()\n",
    "    for line in f_lines:\n",
    "      ll = line.split(\"\\t\")\n",
    "      en_enhi = {\"id\": str(en_lines),\n",
    "                \"translation\" : {\"en\":ll[0],\n",
    "                                  \"en-hi\":ll[1]}}\n",
    "      fw_en.write(json.dumps(en_enhi, ensure_ascii=False))\n",
    "      fw_en.write(\"\\n\")\n",
    "      en_lines+=1\n",
    "\n",
    "    f_lines = f_valid.read().splitlines()\n",
    "    for line in f_lines:\n",
    "      ll = line.split(\"\\t\")\n",
    "      en_enhi = {\"id\": str(en_lines),\n",
    "                \"translation\" : {\"en\":ll[0],\n",
    "                                  \"en-hi\":ll[1]}}\n",
    "      fw_en.write(json.dumps(en_enhi, ensure_ascii=False))\n",
    "      fw_en.write(\"\\n\")\n",
    "      en_lines+=1\n",
    "\n",
    "    f_lines = f_test.read().splitlines()\n",
    "    for line in f_lines:\n",
    "      ll = line.split(\"\\t\")\n",
    "      en_enhi = {\"id\": str(en_lines),\n",
    "                \"translation\" : {\"en\":ll[0],\n",
    "                                  \"en-hi\":\"\"}}\n",
    "      fw_en.write(json.dumps(en_enhi, ensure_ascii=False))\n",
    "      fw_en.write(\"\\n\")\n",
    "      en_lines+=1\n",
    "\n",
    "\n",
    "    os.chdir(\"..\")\n",
    "    print(\"After LinCE: en_lines = {}, hi_lines = {}\".format(en_lines, hi_lines))\n",
    "except Exception as e: \n",
    "    print(e)\n",
    "    os.chdir(\"..\")"
   ]
  },
  {
   "cell_type": "code",
   "execution_count": 7,
   "metadata": {
    "colab": {
     "base_uri": "https://localhost:8080/"
    },
    "id": "MdL6an6Ud57c",
    "outputId": "41524995-1a16-47a8-8a4e-d6fe38ca4b7f"
   },
   "outputs": [
    {
     "name": "stdout",
     "output_type": "stream",
     "text": [
      "After PHINC: en_lines = 33663, hi_lines = 14452\n"
     ]
    }
   ],
   "source": [
    "#Processing PHINC dataset\n",
    "os.chdir(\"phinc-dataset\")\n",
    "try:\n",
    "    f = open(\"en_hi_cm_parallel_corpus.csv\", encoding=\"utf8\")\n",
    "    fw_en = open(\"../en_enhi_test.json\", 'a', encoding=\"utf8\")\n",
    "    fr = csv.reader(f)\n",
    "    rows = []\n",
    "    for row in fr:\n",
    "      rows.append(row)\n",
    "    rows = rows[1:]\n",
    "    for row in rows:\n",
    "      en_enhi = {\"id\": str(en_lines),\n",
    "                  \"translation\" : {\"en\":row[0],\n",
    "                                  \"en-hi\":row[1]}}\n",
    "      fw_en.write(json.dumps(en_enhi, ensure_ascii=False))\n",
    "      fw_en.write(\"\\n\")\n",
    "      en_lines+=1\n",
    "    os.chdir(\"..\")\n",
    "    print(\"After PHINC: en_lines = {}, hi_lines = {}\".format(en_lines, hi_lines))\n",
    "except Exception as e: \n",
    "    print(e)\n",
    "    os.chdir(\"..\")"
   ]
  },
  {
   "cell_type": "code",
   "execution_count": 8,
   "metadata": {
    "colab": {
     "base_uri": "https://localhost:8080/"
    },
    "id": "9ygfoXGseFSZ",
    "outputId": "f7b2e9d6-51e1-4584-fa57-5d913620afc4"
   },
   "outputs": [
    {
     "name": "stderr",
     "output_type": "stream",
     "text": [
      "100%|████████████████████████████████████████████████████████████████████████████████████████████████████████████████████████████████████| 6096/6096 [00:00<00:00, 155624.47it/s]"
     ]
    },
    {
     "name": "stdout",
     "output_type": "stream",
     "text": [
      "After mrinal-dhar corpus: en_lines = 39759, hi_lines = 14452\n"
     ]
    },
    {
     "name": "stderr",
     "output_type": "stream",
     "text": [
      "\n"
     ]
    }
   ],
   "source": [
    "#Processing mrinaldhar-en-hi-codemixed\n",
    "os.chdir(\"mrinaldhar_en-hi-codemixed-corpus\")\n",
    "try:\n",
    "    fs = open(\"s-enhi.txt\", encoding=\"utf8\")\n",
    "    ft = open(\"t-en.txt\", encoding=\"utf8\")\n",
    "\n",
    "    en_txt = []\n",
    "    cm_txt = []\n",
    "\n",
    "    fs_txt = fs.read().splitlines()\n",
    "    ft_txt = ft.read().splitlines()\n",
    "\n",
    "    for l in fs_txt:\n",
    "      cm_txt.append(l)\n",
    "    for l in ft_txt:\n",
    "      en_txt.append(l)\n",
    "\n",
    "    for i in tqdm(range(len(en_txt))):\n",
    "      en_enhi = {\"id\": str(en_lines),\n",
    "                  \"translation\" : {\"en\":en_txt[i],\n",
    "                                  \"en-hi\":cm_txt[i]}}\n",
    "      fw_en.write(json.dumps(en_enhi, ensure_ascii=False))\n",
    "      fw_en.write(\"\\n\")\n",
    "      en_lines+=1\n",
    "    os.chdir(\"..\")\n",
    "    print(\"After mrinal-dhar corpus: en_lines = {}, hi_lines = {}\".format(en_lines, hi_lines))\n",
    "except Exception as e: \n",
    "    print(e)\n",
    "    os.chdir(\"..\")"
   ]
  },
  {
   "cell_type": "code",
   "execution_count": 9,
   "metadata": {},
   "outputs": [
    {
     "name": "stdout",
     "output_type": "stream",
     "text": [
      "Downloading and preparing dataset json/default to C:/Users/Kapil/.cache/huggingface/datasets/json/default-79e31dbcad57b6e8/0.0.0/8bb11242116d547c741b2e8a1f18598ffdd40a1d4f2a2872c7a28b697434bc96...\n"
     ]
    },
    {
     "data": {
      "application/vnd.jupyter.widget-view+json": {
       "model_id": "8d992be474ca4df7a977154155b1137f",
       "version_major": 2,
       "version_minor": 0
      },
      "text/plain": [
       "Downloading data files:   0%|          | 0/1 [00:00<?, ?it/s]"
      ]
     },
     "metadata": {},
     "output_type": "display_data"
    },
    {
     "data": {
      "application/vnd.jupyter.widget-view+json": {
       "model_id": "2cb07ea1428c4c5f81990ec298481ccc",
       "version_major": 2,
       "version_minor": 0
      },
      "text/plain": [
       "Extracting data files:   0%|          | 0/1 [00:00<?, ?it/s]"
      ]
     },
     "metadata": {},
     "output_type": "display_data"
    },
    {
     "data": {
      "application/vnd.jupyter.widget-view+json": {
       "model_id": "",
       "version_major": 2,
       "version_minor": 0
      },
      "text/plain": [
       "Generating train split: 0 examples [00:00, ? examples/s]"
      ]
     },
     "metadata": {},
     "output_type": "display_data"
    },
    {
     "name": "stdout",
     "output_type": "stream",
     "text": [
      "Dataset json downloaded and prepared to C:/Users/Kapil/.cache/huggingface/datasets/json/default-79e31dbcad57b6e8/0.0.0/8bb11242116d547c741b2e8a1f18598ffdd40a1d4f2a2872c7a28b697434bc96. Subsequent calls will reuse this data.\n"
     ]
    },
    {
     "data": {
      "application/vnd.jupyter.widget-view+json": {
       "model_id": "8b7e6494acde422c9d274b22a4103b8c",
       "version_major": 2,
       "version_minor": 0
      },
      "text/plain": [
       "  0%|          | 0/1 [00:00<?, ?it/s]"
      ]
     },
     "metadata": {},
     "output_type": "display_data"
    },
    {
     "name": "stdout",
     "output_type": "stream",
     "text": [
      "Train dataset size: 39669\n",
      "Downloading and preparing dataset json/default to C:/Users/Kapil/.cache/huggingface/datasets/json/default-bc295b2965affd3a/0.0.0/8bb11242116d547c741b2e8a1f18598ffdd40a1d4f2a2872c7a28b697434bc96...\n"
     ]
    },
    {
     "data": {
      "application/vnd.jupyter.widget-view+json": {
       "model_id": "40b459d8a8554aae8bb79377ddb8c822",
       "version_major": 2,
       "version_minor": 0
      },
      "text/plain": [
       "Downloading data files:   0%|          | 0/1 [00:00<?, ?it/s]"
      ]
     },
     "metadata": {},
     "output_type": "display_data"
    },
    {
     "data": {
      "application/vnd.jupyter.widget-view+json": {
       "model_id": "008d60cf4081431fbc795bbdf80c21aa",
       "version_major": 2,
       "version_minor": 0
      },
      "text/plain": [
       "Extracting data files:   0%|          | 0/1 [00:00<?, ?it/s]"
      ]
     },
     "metadata": {},
     "output_type": "display_data"
    },
    {
     "data": {
      "application/vnd.jupyter.widget-view+json": {
       "model_id": "",
       "version_major": 2,
       "version_minor": 0
      },
      "text/plain": [
       "Generating train split: 0 examples [00:00, ? examples/s]"
      ]
     },
     "metadata": {},
     "output_type": "display_data"
    },
    {
     "name": "stdout",
     "output_type": "stream",
     "text": [
      "Dataset json downloaded and prepared to C:/Users/Kapil/.cache/huggingface/datasets/json/default-bc295b2965affd3a/0.0.0/8bb11242116d547c741b2e8a1f18598ffdd40a1d4f2a2872c7a28b697434bc96. Subsequent calls will reuse this data.\n"
     ]
    },
    {
     "data": {
      "application/vnd.jupyter.widget-view+json": {
       "model_id": "ef70555a74e74416a7c89f2ef9f567e9",
       "version_major": 2,
       "version_minor": 0
      },
      "text/plain": [
       "  0%|          | 0/1 [00:00<?, ?it/s]"
      ]
     },
     "metadata": {},
     "output_type": "display_data"
    },
    {
     "name": "stdout",
     "output_type": "stream",
     "text": [
      "Train dataset size: 14452\n"
     ]
    }
   ],
   "source": [
    "from datasets import Dataset, load_dataset\n",
    "dataset_en_enhi = load_dataset('json', data_files={'en_enhi_test.json'})\n",
    "print(f\"Train dataset size: {len(dataset_en_enhi['train'])}\")\n",
    "\n",
    "dataset_hi_enhi = load_dataset('json', data_files={'hi_enhi_test.json'})\n",
    "print(f\"Train dataset size: {len(dataset_hi_enhi['train'])}\")"
   ]
  },
  {
   "cell_type": "code",
   "execution_count": 10,
   "metadata": {},
   "outputs": [
    {
     "data": {
      "text/plain": [
       "Dataset({\n",
       "    features: ['id', 'translation'],\n",
       "    num_rows: 14452\n",
       "})"
      ]
     },
     "execution_count": 10,
     "metadata": {},
     "output_type": "execute_result"
    }
   ],
   "source": [
    "dataset_hi_enhi[\"train\"]"
   ]
  },
  {
   "cell_type": "code",
   "execution_count": 14,
   "metadata": {},
   "outputs": [
    {
     "data": {
      "text/plain": [
       "\"\\nIf you want to make dictionary with train, test and validation: use the below script:\\n\\ndataset_en_enhi_train_testvalid = dataset_en_enhi['train'].train_test_split(test_size=0.1)\\ndataset_en_enhi_test_valid = dataset_en_enhi_train_testvalid['test'].train_test_split(test_size=0.5)\\n\\ndataset_hi_enhi_train_testvalid = dataset_hi_enhi['train'].train_test_split(test_size=0.1)\\ndataset_hi_enhi_test_valid = dataset_hi_enhi_train_testvalid['test'].train_test_split(test_size=0.5)\\n\\ndataset_en_enhi = DatasetDict({\\n    'train': dataset_en_enhi_train_testvalid['train'],\\n    'test': dataset_en_enhi_test_valid['test'],\\n    'validation': dataset_en_enhi_test_valid['train']})\\n\\ndataset_hi_enhi = DatasetDict({\\n    'train': dataset_hi_enhi_train_testvalid['train'],\\n    'test': dataset_hi_enhi_test_valid['test'],\\n    'validation': dataset_hi_enhi_test_valid['train']})\\n\\n\""
      ]
     },
     "execution_count": 14,
     "metadata": {},
     "output_type": "execute_result"
    }
   ],
   "source": [
    "from datasets import DatasetDict\n",
    "\n",
    "dataset_en_enhi = DatasetDict({\n",
    "    'train': dataset_en_enhi['train']})\n",
    "\n",
    "dataset_hi_enhi = DatasetDict({\n",
    "    'train': dataset_hi_enhi['train']})\n",
    "\n",
    "'''\n",
    "If you want to make dictionary with train, test and validation: use the below script:\n",
    "\n",
    "dataset_en_enhi_train_testvalid = dataset_en_enhi['train'].train_test_split(test_size=0.1)\n",
    "dataset_en_enhi_test_valid = dataset_en_enhi_train_testvalid['test'].train_test_split(test_size=0.5)\n",
    "\n",
    "dataset_hi_enhi_train_testvalid = dataset_hi_enhi['train'].train_test_split(test_size=0.1)\n",
    "dataset_hi_enhi_test_valid = dataset_hi_enhi_train_testvalid['test'].train_test_split(test_size=0.5)\n",
    "\n",
    "dataset_en_enhi = DatasetDict({\n",
    "    'train': dataset_en_enhi_train_testvalid['train'],\n",
    "    'test': dataset_en_enhi_test_valid['test'],\n",
    "    'validation': dataset_en_enhi_test_valid['train']})\n",
    "\n",
    "dataset_hi_enhi = DatasetDict({\n",
    "    'train': dataset_hi_enhi_train_testvalid['train'],\n",
    "    'test': dataset_hi_enhi_test_valid['test'],\n",
    "    'validation': dataset_hi_enhi_test_valid['train']})\n",
    "\n",
    "'''"
   ]
  },
  {
   "cell_type": "code",
   "execution_count": 15,
   "metadata": {},
   "outputs": [
    {
     "data": {
      "text/plain": [
       "DatasetDict({\n",
       "    train: Dataset({\n",
       "        features: ['id', 'translation'],\n",
       "        num_rows: 39669\n",
       "    })\n",
       "})"
      ]
     },
     "execution_count": 15,
     "metadata": {},
     "output_type": "execute_result"
    }
   ],
   "source": [
    "dataset_en_enhi"
   ]
  },
  {
   "cell_type": "code",
   "execution_count": 16,
   "metadata": {},
   "outputs": [
    {
     "name": "stderr",
     "output_type": "stream",
     "text": [
      "Pushing split train to the Hub.\n"
     ]
    },
    {
     "data": {
      "application/vnd.jupyter.widget-view+json": {
       "model_id": "80ea727830ce456ab95b5bb37130a617",
       "version_major": 2,
       "version_minor": 0
      },
      "text/plain": [
       "Pushing dataset shards to the dataset hub:   0%|          | 0/1 [00:00<?, ?it/s]"
      ]
     },
     "metadata": {},
     "output_type": "display_data"
    },
    {
     "data": {
      "application/vnd.jupyter.widget-view+json": {
       "model_id": "7855d87f3f8d4ae58b0baab283949d53",
       "version_major": 2,
       "version_minor": 0
      },
      "text/plain": [
       "Creating parquet from Arrow format:   0%|          | 0/40 [00:00<?, ?ba/s]"
      ]
     },
     "metadata": {},
     "output_type": "display_data"
    },
    {
     "data": {
      "application/vnd.jupyter.widget-view+json": {
       "model_id": "25a6766ad65544fbbc4d461fdca1eba5",
       "version_major": 2,
       "version_minor": 0
      },
      "text/plain": [
       "Downloading metadata:   0%|          | 0.00/26.0 [00:00<?, ?B/s]"
      ]
     },
     "metadata": {},
     "output_type": "display_data"
    },
    {
     "name": "stderr",
     "output_type": "stream",
     "text": [
      "Pushing split train to the Hub.\n"
     ]
    },
    {
     "data": {
      "application/vnd.jupyter.widget-view+json": {
       "model_id": "8bb296e03d95448fb90dd113127b08ad",
       "version_major": 2,
       "version_minor": 0
      },
      "text/plain": [
       "Pushing dataset shards to the dataset hub:   0%|          | 0/1 [00:00<?, ?it/s]"
      ]
     },
     "metadata": {},
     "output_type": "display_data"
    },
    {
     "data": {
      "application/vnd.jupyter.widget-view+json": {
       "model_id": "f42a0868e88d472ea112fcbd1702cd3d",
       "version_major": 2,
       "version_minor": 0
      },
      "text/plain": [
       "Creating parquet from Arrow format:   0%|          | 0/15 [00:00<?, ?ba/s]"
      ]
     },
     "metadata": {},
     "output_type": "display_data"
    },
    {
     "data": {
      "application/vnd.jupyter.widget-view+json": {
       "model_id": "b65dbf61312b4716a99eb961ca199f47",
       "version_major": 2,
       "version_minor": 0
      },
      "text/plain": [
       "Downloading metadata:   0%|          | 0.00/26.0 [00:00<?, ?B/s]"
      ]
     },
     "metadata": {},
     "output_type": "display_data"
    }
   ],
   "source": [
    "dataset_en_enhi.push_to_hub(\"kapilrk04/eval_dataset_en_enhi\", private=True)\n",
    "dataset_hi_enhi.push_to_hub(\"kapilrk04/eval_dataset_hi_enhi\", private=True)"
   ]
  },
  {
   "cell_type": "code",
   "execution_count": null,
   "metadata": {},
   "outputs": [],
   "source": []
  }
 ],
 "metadata": {
  "colab": {
   "provenance": []
  },
  "kernelspec": {
   "display_name": "Python 3 (ipykernel)",
   "language": "python",
   "name": "python3"
  },
  "language_info": {
   "codemirror_mode": {
    "name": "ipython",
    "version": 3
   },
   "file_extension": ".py",
   "mimetype": "text/x-python",
   "name": "python",
   "nbconvert_exporter": "python",
   "pygments_lexer": "ipython3",
   "version": "3.10.9"
  },
  "widgets": {
   "application/vnd.jupyter.widget-state+json": {
    "35d959b6c61646e8acf482474465b5ee": {
     "model_module": "@jupyter-widgets/base",
     "model_module_version": "1.2.0",
     "model_name": "LayoutModel",
     "state": {
      "_model_module": "@jupyter-widgets/base",
      "_model_module_version": "1.2.0",
      "_model_name": "LayoutModel",
      "_view_count": null,
      "_view_module": "@jupyter-widgets/base",
      "_view_module_version": "1.2.0",
      "_view_name": "LayoutView",
      "align_content": null,
      "align_items": null,
      "align_self": null,
      "border": null,
      "bottom": null,
      "display": null,
      "flex": null,
      "flex_flow": null,
      "grid_area": null,
      "grid_auto_columns": null,
      "grid_auto_flow": null,
      "grid_auto_rows": null,
      "grid_column": null,
      "grid_gap": null,
      "grid_row": null,
      "grid_template_areas": null,
      "grid_template_columns": null,
      "grid_template_rows": null,
      "height": null,
      "justify_content": null,
      "justify_items": null,
      "left": null,
      "margin": null,
      "max_height": null,
      "max_width": null,
      "min_height": null,
      "min_width": null,
      "object_fit": null,
      "object_position": null,
      "order": null,
      "overflow": null,
      "overflow_x": null,
      "overflow_y": null,
      "padding": null,
      "right": null,
      "top": null,
      "visibility": null,
      "width": null
     }
    },
    "392454974e1d41d290c259ceb1f96844": {
     "model_module": "@jupyter-widgets/controls",
     "model_module_version": "1.5.0",
     "model_name": "PasswordModel",
     "state": {
      "_dom_classes": [],
      "_model_module": "@jupyter-widgets/controls",
      "_model_module_version": "1.5.0",
      "_model_name": "PasswordModel",
      "_view_count": null,
      "_view_module": "@jupyter-widgets/controls",
      "_view_module_version": "1.5.0",
      "_view_name": "PasswordView",
      "continuous_update": true,
      "description": "Token:",
      "description_tooltip": null,
      "disabled": false,
      "layout": "IPY_MODEL_35d959b6c61646e8acf482474465b5ee",
      "placeholder": "​",
      "style": "IPY_MODEL_dda9270ae94047aea78c0b1465aed862",
      "value": ""
     }
    },
    "608b690801f94a58b1bb7f54277d6ad3": {
     "model_module": "@jupyter-widgets/controls",
     "model_module_version": "1.5.0",
     "model_name": "DescriptionStyleModel",
     "state": {
      "_model_module": "@jupyter-widgets/controls",
      "_model_module_version": "1.5.0",
      "_model_name": "DescriptionStyleModel",
      "_view_count": null,
      "_view_module": "@jupyter-widgets/base",
      "_view_module_version": "1.2.0",
      "_view_name": "StyleView",
      "description_width": ""
     }
    },
    "63ab2b71cc9f43eab5e80abdd2d84167": {
     "model_module": "@jupyter-widgets/base",
     "model_module_version": "1.2.0",
     "model_name": "LayoutModel",
     "state": {
      "_model_module": "@jupyter-widgets/base",
      "_model_module_version": "1.2.0",
      "_model_name": "LayoutModel",
      "_view_count": null,
      "_view_module": "@jupyter-widgets/base",
      "_view_module_version": "1.2.0",
      "_view_name": "LayoutView",
      "align_content": null,
      "align_items": null,
      "align_self": null,
      "border": null,
      "bottom": null,
      "display": null,
      "flex": null,
      "flex_flow": null,
      "grid_area": null,
      "grid_auto_columns": null,
      "grid_auto_flow": null,
      "grid_auto_rows": null,
      "grid_column": null,
      "grid_gap": null,
      "grid_row": null,
      "grid_template_areas": null,
      "grid_template_columns": null,
      "grid_template_rows": null,
      "height": null,
      "justify_content": null,
      "justify_items": null,
      "left": null,
      "margin": null,
      "max_height": null,
      "max_width": null,
      "min_height": null,
      "min_width": null,
      "object_fit": null,
      "object_position": null,
      "order": null,
      "overflow": null,
      "overflow_x": null,
      "overflow_y": null,
      "padding": null,
      "right": null,
      "top": null,
      "visibility": null,
      "width": null
     }
    },
    "63bc2db4333245c6914f71155168501b": {
     "model_module": "@jupyter-widgets/base",
     "model_module_version": "1.2.0",
     "model_name": "LayoutModel",
     "state": {
      "_model_module": "@jupyter-widgets/base",
      "_model_module_version": "1.2.0",
      "_model_name": "LayoutModel",
      "_view_count": null,
      "_view_module": "@jupyter-widgets/base",
      "_view_module_version": "1.2.0",
      "_view_name": "LayoutView",
      "align_content": null,
      "align_items": null,
      "align_self": null,
      "border": null,
      "bottom": null,
      "display": null,
      "flex": null,
      "flex_flow": null,
      "grid_area": null,
      "grid_auto_columns": null,
      "grid_auto_flow": null,
      "grid_auto_rows": null,
      "grid_column": null,
      "grid_gap": null,
      "grid_row": null,
      "grid_template_areas": null,
      "grid_template_columns": null,
      "grid_template_rows": null,
      "height": null,
      "justify_content": null,
      "justify_items": null,
      "left": null,
      "margin": null,
      "max_height": null,
      "max_width": null,
      "min_height": null,
      "min_width": null,
      "object_fit": null,
      "object_position": null,
      "order": null,
      "overflow": null,
      "overflow_x": null,
      "overflow_y": null,
      "padding": null,
      "right": null,
      "top": null,
      "visibility": null,
      "width": null
     }
    },
    "7fa87352429c4ea69273c8b99899da16": {
     "model_module": "@jupyter-widgets/base",
     "model_module_version": "1.2.0",
     "model_name": "LayoutModel",
     "state": {
      "_model_module": "@jupyter-widgets/base",
      "_model_module_version": "1.2.0",
      "_model_name": "LayoutModel",
      "_view_count": null,
      "_view_module": "@jupyter-widgets/base",
      "_view_module_version": "1.2.0",
      "_view_name": "LayoutView",
      "align_content": null,
      "align_items": "center",
      "align_self": null,
      "border": null,
      "bottom": null,
      "display": "flex",
      "flex": null,
      "flex_flow": "column",
      "grid_area": null,
      "grid_auto_columns": null,
      "grid_auto_flow": null,
      "grid_auto_rows": null,
      "grid_column": null,
      "grid_gap": null,
      "grid_row": null,
      "grid_template_areas": null,
      "grid_template_columns": null,
      "grid_template_rows": null,
      "height": null,
      "justify_content": null,
      "justify_items": null,
      "left": null,
      "margin": null,
      "max_height": null,
      "max_width": null,
      "min_height": null,
      "min_width": null,
      "object_fit": null,
      "object_position": null,
      "order": null,
      "overflow": null,
      "overflow_x": null,
      "overflow_y": null,
      "padding": null,
      "right": null,
      "top": null,
      "visibility": null,
      "width": "50%"
     }
    },
    "961d537b4c5c46cbab9dd4cf3941b019": {
     "model_module": "@jupyter-widgets/controls",
     "model_module_version": "1.5.0",
     "model_name": "DescriptionStyleModel",
     "state": {
      "_model_module": "@jupyter-widgets/controls",
      "_model_module_version": "1.5.0",
      "_model_name": "DescriptionStyleModel",
      "_view_count": null,
      "_view_module": "@jupyter-widgets/base",
      "_view_module_version": "1.2.0",
      "_view_name": "StyleView",
      "description_width": ""
     }
    },
    "a769c284891e4424b5b7b554458d71b5": {
     "model_module": "@jupyter-widgets/controls",
     "model_module_version": "1.5.0",
     "model_name": "HTMLModel",
     "state": {
      "_dom_classes": [],
      "_model_module": "@jupyter-widgets/controls",
      "_model_module_version": "1.5.0",
      "_model_name": "HTMLModel",
      "_view_count": null,
      "_view_module": "@jupyter-widgets/controls",
      "_view_module_version": "1.5.0",
      "_view_name": "HTMLView",
      "description": "",
      "description_tooltip": null,
      "layout": "IPY_MODEL_ed3eb92de4df4c5997f92dadbef9de63",
      "placeholder": "​",
      "style": "IPY_MODEL_608b690801f94a58b1bb7f54277d6ad3",
      "value": "<center> <img\nsrc=https://huggingface.co/front/assets/huggingface_logo-noborder.svg\nalt='Hugging Face'> <br> Copy a token from <a\nhref=\"https://huggingface.co/settings/tokens\" target=\"_blank\">your Hugging Face\ntokens page</a> and paste it below. <br> Immediately click login after copying\nyour token or it might be stored in plain text in this notebook file. </center>"
     }
    },
    "ad0f3f5b37d046daabd517b92fb45c74": {
     "model_module": "@jupyter-widgets/base",
     "model_module_version": "1.2.0",
     "model_name": "LayoutModel",
     "state": {
      "_model_module": "@jupyter-widgets/base",
      "_model_module_version": "1.2.0",
      "_model_name": "LayoutModel",
      "_view_count": null,
      "_view_module": "@jupyter-widgets/base",
      "_view_module_version": "1.2.0",
      "_view_name": "LayoutView",
      "align_content": null,
      "align_items": null,
      "align_self": null,
      "border": null,
      "bottom": null,
      "display": null,
      "flex": null,
      "flex_flow": null,
      "grid_area": null,
      "grid_auto_columns": null,
      "grid_auto_flow": null,
      "grid_auto_rows": null,
      "grid_column": null,
      "grid_gap": null,
      "grid_row": null,
      "grid_template_areas": null,
      "grid_template_columns": null,
      "grid_template_rows": null,
      "height": null,
      "justify_content": null,
      "justify_items": null,
      "left": null,
      "margin": null,
      "max_height": null,
      "max_width": null,
      "min_height": null,
      "min_width": null,
      "object_fit": null,
      "object_position": null,
      "order": null,
      "overflow": null,
      "overflow_x": null,
      "overflow_y": null,
      "padding": null,
      "right": null,
      "top": null,
      "visibility": null,
      "width": null
     }
    },
    "c439431a77a24691bb577f303d3e23cb": {
     "model_module": "@jupyter-widgets/controls",
     "model_module_version": "1.5.0",
     "model_name": "CheckboxModel",
     "state": {
      "_dom_classes": [],
      "_model_module": "@jupyter-widgets/controls",
      "_model_module_version": "1.5.0",
      "_model_name": "CheckboxModel",
      "_view_count": null,
      "_view_module": "@jupyter-widgets/controls",
      "_view_module_version": "1.5.0",
      "_view_name": "CheckboxView",
      "description": "Add token as git credential?",
      "description_tooltip": null,
      "disabled": false,
      "indent": true,
      "layout": "IPY_MODEL_63ab2b71cc9f43eab5e80abdd2d84167",
      "style": "IPY_MODEL_961d537b4c5c46cbab9dd4cf3941b019",
      "value": true
     }
    },
    "ccac7c3afab34a7e892d88096053abed": {
     "model_module": "@jupyter-widgets/controls",
     "model_module_version": "1.5.0",
     "model_name": "DescriptionStyleModel",
     "state": {
      "_model_module": "@jupyter-widgets/controls",
      "_model_module_version": "1.5.0",
      "_model_name": "DescriptionStyleModel",
      "_view_count": null,
      "_view_module": "@jupyter-widgets/base",
      "_view_module_version": "1.2.0",
      "_view_name": "StyleView",
      "description_width": ""
     }
    },
    "d1e4c48b304e4496ac1c52573b3c82e3": {
     "model_module": "@jupyter-widgets/controls",
     "model_module_version": "1.5.0",
     "model_name": "ButtonModel",
     "state": {
      "_dom_classes": [],
      "_model_module": "@jupyter-widgets/controls",
      "_model_module_version": "1.5.0",
      "_model_name": "ButtonModel",
      "_view_count": null,
      "_view_module": "@jupyter-widgets/controls",
      "_view_module_version": "1.5.0",
      "_view_name": "ButtonView",
      "button_style": "",
      "description": "Login",
      "disabled": false,
      "icon": "",
      "layout": "IPY_MODEL_ad0f3f5b37d046daabd517b92fb45c74",
      "style": "IPY_MODEL_ed3dbe22f1604ca68e7a513836a18e4b",
      "tooltip": ""
     }
    },
    "d4146d9f689248f7bdfd9339ccd1d249": {
     "model_module": "@jupyter-widgets/controls",
     "model_module_version": "1.5.0",
     "model_name": "HTMLModel",
     "state": {
      "_dom_classes": [],
      "_model_module": "@jupyter-widgets/controls",
      "_model_module_version": "1.5.0",
      "_model_name": "HTMLModel",
      "_view_count": null,
      "_view_module": "@jupyter-widgets/controls",
      "_view_module_version": "1.5.0",
      "_view_name": "HTMLView",
      "description": "",
      "description_tooltip": null,
      "layout": "IPY_MODEL_63bc2db4333245c6914f71155168501b",
      "placeholder": "​",
      "style": "IPY_MODEL_ccac7c3afab34a7e892d88096053abed",
      "value": "\n<b>Pro Tip:</b> If you don't already have one, you can create a dedicated\n'notebooks' token with 'write' access, that you can then easily reuse for all\nnotebooks. </center>"
     }
    },
    "da4641c6bd264f738d121b34c1124d02": {
     "model_module": "@jupyter-widgets/controls",
     "model_module_version": "1.5.0",
     "model_name": "VBoxModel",
     "state": {
      "_dom_classes": [],
      "_model_module": "@jupyter-widgets/controls",
      "_model_module_version": "1.5.0",
      "_model_name": "VBoxModel",
      "_view_count": null,
      "_view_module": "@jupyter-widgets/controls",
      "_view_module_version": "1.5.0",
      "_view_name": "VBoxView",
      "box_style": "",
      "children": [
       "IPY_MODEL_a769c284891e4424b5b7b554458d71b5",
       "IPY_MODEL_392454974e1d41d290c259ceb1f96844",
       "IPY_MODEL_c439431a77a24691bb577f303d3e23cb",
       "IPY_MODEL_d1e4c48b304e4496ac1c52573b3c82e3",
       "IPY_MODEL_d4146d9f689248f7bdfd9339ccd1d249"
      ],
      "layout": "IPY_MODEL_7fa87352429c4ea69273c8b99899da16"
     }
    },
    "dda9270ae94047aea78c0b1465aed862": {
     "model_module": "@jupyter-widgets/controls",
     "model_module_version": "1.5.0",
     "model_name": "DescriptionStyleModel",
     "state": {
      "_model_module": "@jupyter-widgets/controls",
      "_model_module_version": "1.5.0",
      "_model_name": "DescriptionStyleModel",
      "_view_count": null,
      "_view_module": "@jupyter-widgets/base",
      "_view_module_version": "1.2.0",
      "_view_name": "StyleView",
      "description_width": ""
     }
    },
    "ed3dbe22f1604ca68e7a513836a18e4b": {
     "model_module": "@jupyter-widgets/controls",
     "model_module_version": "1.5.0",
     "model_name": "ButtonStyleModel",
     "state": {
      "_model_module": "@jupyter-widgets/controls",
      "_model_module_version": "1.5.0",
      "_model_name": "ButtonStyleModel",
      "_view_count": null,
      "_view_module": "@jupyter-widgets/base",
      "_view_module_version": "1.2.0",
      "_view_name": "StyleView",
      "button_color": null,
      "font_weight": ""
     }
    },
    "ed3eb92de4df4c5997f92dadbef9de63": {
     "model_module": "@jupyter-widgets/base",
     "model_module_version": "1.2.0",
     "model_name": "LayoutModel",
     "state": {
      "_model_module": "@jupyter-widgets/base",
      "_model_module_version": "1.2.0",
      "_model_name": "LayoutModel",
      "_view_count": null,
      "_view_module": "@jupyter-widgets/base",
      "_view_module_version": "1.2.0",
      "_view_name": "LayoutView",
      "align_content": null,
      "align_items": null,
      "align_self": null,
      "border": null,
      "bottom": null,
      "display": null,
      "flex": null,
      "flex_flow": null,
      "grid_area": null,
      "grid_auto_columns": null,
      "grid_auto_flow": null,
      "grid_auto_rows": null,
      "grid_column": null,
      "grid_gap": null,
      "grid_row": null,
      "grid_template_areas": null,
      "grid_template_columns": null,
      "grid_template_rows": null,
      "height": null,
      "justify_content": null,
      "justify_items": null,
      "left": null,
      "margin": null,
      "max_height": null,
      "max_width": null,
      "min_height": null,
      "min_width": null,
      "object_fit": null,
      "object_position": null,
      "order": null,
      "overflow": null,
      "overflow_x": null,
      "overflow_y": null,
      "padding": null,
      "right": null,
      "top": null,
      "visibility": null,
      "width": null
     }
    }
   }
  }
 },
 "nbformat": 4,
 "nbformat_minor": 1
}
