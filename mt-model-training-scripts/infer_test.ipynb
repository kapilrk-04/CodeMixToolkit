{
 "cells": [
  {
   "cell_type": "code",
   "execution_count": 4,
   "id": "da51f46e",
   "metadata": {},
   "outputs": [],
   "source": [
    "texts = [\"There is a mythological story behind this ritual\", \"The scheduled tribes communities are concentrated in two belts.\",\n",
    "        \"They will declare the names in next few days.\", \"It is a pleasure working with him.\", \"Committees have been formed in every district of the state.\"]\n",
    "# [{'en': 'She takes a job of teacher in the town .',\n",
    "#    'en-hi': 'She the town में teacher की नौकरी करती है।'},\n",
    "#   {'en': 'The scheduled tribes communities are concentrated in two belts .',\n",
    "#    'en-hi': 'अनुसूचित जनजातियां in two belts ही केंद्रित हैं।'},\n",
    "#   {'en': 'They will declare the names in next few days .',\n",
    "#    'en-hi': 'will declare the इनके नाम सार्वजनिक in next कुछ दिनों'},\n",
    "#   {'en': 'It is a pleasure working with him .',\n",
    "#    'en-hi': 'उनके साथ काम करके a pleasure It है।'},\n",
    "#   {'en': 'Committees have been formed in every district of the state .',\n",
    "#    'en-hi': 'वार्ड have been formed in सभी जिलों of the प्रदेश .'}]}"
   ]
  },
  {
   "cell_type": "code",
   "execution_count": 5,
   "id": "496398b3",
   "metadata": {},
   "outputs": [],
   "source": [
    "from transformers import pipeline\n",
    "from transformers import AutoModelForSeq2SeqLM, Seq2SeqTrainingArguments, Seq2SeqTrainer\n",
    "from transformers import AutoTokenizer\n",
    "\n",
    "tokenizer = AutoTokenizer.from_pretrained(\"/scratch/prashantk/mt5_based_en_enhi_mt_model/checkpoint-58000\")\n",
    "trainedmodel = AutoModelForSeq2SeqLM.from_pretrained(\"/scratch/prashantk/mt5_based_en_enhi_mt_model/checkpoint-58000\")\n"
   ]
  },
  {
   "cell_type": "code",
   "execution_count": 6,
   "id": "7b6c9d2f",
   "metadata": {},
   "outputs": [
    {
     "name": "stdout",
     "output_type": "stream",
     "text": [
      "this ritual के стрरान there a mythological story है.\n",
      "The scheduled tribes communities are concentrated in two belts.\n",
      "They will declare the names अगले कुछ दिनों में\n",
      "It is a  dapulation काम with him करना जाता\n",
      "राज्य के every district में Committees formed गया है।\n"
     ]
    }
   ],
   "source": [
    "for text in texts:\n",
    "    inputs = tokenizer(text, return_tensors=\"pt\").input_ids\n",
    "    outputs = trainedmodel.generate(inputs, max_new_tokens=40, do_sample=True, top_k=30, top_p=0.95)\n",
    "    print(tokenizer.decode(outputs[0], skip_special_tokens=True))"
   ]
  },
  {
   "cell_type": "code",
   "execution_count": 4,
   "id": "260462cf",
   "metadata": {},
   "outputs": [
    {
     "name": "stdout",
     "output_type": "stream",
     "text": [
      "['score', 'counts', 'totals', 'precisions', 'bp', 'sys_len', 'ref_len']\n",
      "100.0\n"
     ]
    }
   ],
   "source": [
    "import evaluate\n",
    "\n",
    "predictions = [\"hello there general kenobi\", \"foo bar foobar\"]\n",
    "references = [[\"hello there general kenobi\", \"hello there !\"], [\"foo bar foobar\", \"foo bar foobar\"]]\n",
    "sacrebleu = evaluate.load(\"sacrebleu\")\n",
    "results = sacrebleu.compute(predictions=predictions, references=references)\n",
    "print(list(results.keys()))\n",
    "print(round(results[\"score\"], 1))\n"
   ]
  },
  {
   "cell_type": "code",
   "execution_count": null,
   "id": "7166e5f6",
   "metadata": {},
   "outputs": [],
   "source": []
  }
 ],
 "metadata": {
  "kernelspec": {
   "display_name": "Python 3 (ipykernel)",
   "language": "python",
   "name": "python3"
  },
  "language_info": {
   "codemirror_mode": {
    "name": "ipython",
    "version": 3
   },
   "file_extension": ".py",
   "mimetype": "text/x-python",
   "name": "python",
   "nbconvert_exporter": "python",
   "pygments_lexer": "ipython3",
   "version": "3.11.4"
  }
 },
 "nbformat": 4,
 "nbformat_minor": 5
}
