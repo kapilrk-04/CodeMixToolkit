{
 "cells": [
  {
   "cell_type": "code",
<<<<<<< HEAD
   "execution_count": 29,
   "id": "314a3f32",
   "metadata": {},
   "outputs": [],
   "source": [
    "from codemix import cs_metrics\n",
    "from codemix import codemix_viz as cv"
=======
   "execution_count": 1,
   "id": "314a3f32",
   "metadata": {},
   "outputs": [
    {
     "data": {
      "application/vnd.jupyter.widget-view+json": {
       "model_id": "a1c4a3849f6e450788c4c51195eb9de2",
       "version_major": 2,
       "version_minor": 0
      },
      "text/plain": [
       "Downloading https://raw.githubusercontent.com/stanfordnlp/stanza-resources/main/resources_1.5.0.json:   0%|   …"
      ]
     },
     "metadata": {},
     "output_type": "display_data"
    },
    {
     "name": "stderr",
     "output_type": "stream",
     "text": [
      "2023-06-17 13:31:03 INFO: Downloading default packages for language: en (English) ...\n",
      "2023-06-17 13:31:04 INFO: File exists: /home/kapilrk04/stanza_resources/en/default.zip\n",
      "2023-06-17 13:31:07 INFO: Finished downloading models and saved to /home/kapilrk04/stanza_resources.\n"
     ]
    },
    {
     "data": {
      "application/vnd.jupyter.widget-view+json": {
       "model_id": "e9d43f17e20d4014a29aa0ba2ec23916",
       "version_major": 2,
       "version_minor": 0
      },
      "text/plain": [
       "Downloading https://raw.githubusercontent.com/stanfordnlp/stanza-resources/main/resources_1.5.0.json:   0%|   …"
      ]
     },
     "metadata": {},
     "output_type": "display_data"
    },
    {
     "name": "stderr",
     "output_type": "stream",
     "text": [
      "2023-06-17 13:31:07 INFO: Downloading default packages for language: hi (Hindi) ...\n",
      "2023-06-17 13:31:08 INFO: File exists: /home/kapilrk04/stanza_resources/hi/default.zip\n",
      "2023-06-17 13:31:09 INFO: Finished downloading models and saved to /home/kapilrk04/stanza_resources.\n"
     ]
    },
    {
     "data": {
      "application/vnd.jupyter.widget-view+json": {
       "model_id": "f66ab25691804a87aa03b1252dd5a27b",
       "version_major": 2,
       "version_minor": 0
      },
      "text/plain": [
       "Downloading https://raw.githubusercontent.com/stanfordnlp/stanza-resources/main/resources_1.5.0.json:   0%|   …"
      ]
     },
     "metadata": {},
     "output_type": "display_data"
    },
    {
     "name": "stderr",
     "output_type": "stream",
     "text": [
      "2023-06-17 13:31:09 INFO: Downloading default packages for language: mr (Marathi) ...\n",
      "2023-06-17 13:31:10 INFO: File exists: /home/kapilrk04/stanza_resources/mr/default.zip\n",
      "2023-06-17 13:31:12 INFO: Finished downloading models and saved to /home/kapilrk04/stanza_resources.\n"
     ]
    },
    {
     "data": {
      "application/vnd.jupyter.widget-view+json": {
       "model_id": "4f5e106be3ee40d19bfe1b3df98f34c2",
       "version_major": 2,
       "version_minor": 0
      },
      "text/plain": [
       "Downloading https://raw.githubusercontent.com/stanfordnlp/stanza-resources/main/resources_1.5.0.json:   0%|   …"
      ]
     },
     "metadata": {},
     "output_type": "display_data"
    },
    {
     "name": "stderr",
     "output_type": "stream",
     "text": [
      "2023-06-17 13:31:12 INFO: Downloading default packages for language: ta (Tamil) ...\n",
      "2023-06-17 13:31:12 INFO: File exists: /home/kapilrk04/stanza_resources/ta/default.zip\n",
      "2023-06-17 13:31:14 INFO: Finished downloading models and saved to /home/kapilrk04/stanza_resources.\n"
     ]
    },
    {
     "data": {
      "application/vnd.jupyter.widget-view+json": {
       "model_id": "ea1e1d100bc64b0e8f5f204347006cbe",
       "version_major": 2,
       "version_minor": 0
      },
      "text/plain": [
       "Downloading https://raw.githubusercontent.com/stanfordnlp/stanza-resources/main/resources_1.5.0.json:   0%|   …"
      ]
     },
     "metadata": {},
     "output_type": "display_data"
    },
    {
     "name": "stderr",
     "output_type": "stream",
     "text": [
      "2023-06-17 13:31:14 INFO: Downloading default packages for language: te (Telugu) ...\n",
      "2023-06-17 13:31:15 INFO: File exists: /home/kapilrk04/stanza_resources/te/default.zip\n",
      "2023-06-17 13:31:17 INFO: Finished downloading models and saved to /home/kapilrk04/stanza_resources.\n",
      "Some weights of the model checkpoint at bert-base-multilingual-cased were not used when initializing BertModel: ['cls.seq_relationship.bias', 'cls.predictions.decoder.weight', 'cls.predictions.transform.LayerNorm.weight', 'cls.predictions.transform.dense.weight', 'cls.seq_relationship.weight', 'cls.predictions.transform.LayerNorm.bias', 'cls.predictions.transform.dense.bias', 'cls.predictions.bias']\n",
      "- This IS expected if you are initializing BertModel from the checkpoint of a model trained on another task or with another architecture (e.g. initializing a BertForSequenceClassification model from a BertForPreTraining model).\n",
      "- This IS NOT expected if you are initializing BertModel from the checkpoint of a model that you expect to be exactly identical (initializing a BertForSequenceClassification model from a BertForSequenceClassification model).\n"
     ]
    }
   ],
   "source": [
    "from codemix import cs_metrics\n",
    "from codemix import codemix_viz as cv\n",
    "from codemix import tokenize_pos_awesome_align as tpa"
>>>>>>> d3f9b6f1c18af985471d67d8ed2a2109dce2a082
   ]
  },
  {
   "cell_type": "code",
<<<<<<< HEAD
   "execution_count": 3,
=======
   "execution_count": 2,
>>>>>>> d3f9b6f1c18af985471d67d8ed2a2109dce2a082
   "id": "66199363",
   "metadata": {},
   "outputs": [],
   "source": [
    "tokens = ['Gully', 'cricket', 'चल', 'रहा', 'हैं', 'यहां', '\"', '(', 'Soniya', ')', 'Gandhi', '\"']\n",
    "LID_Tags = ['en', 'en', 'hi', 'hi', 'hi', 'hi', 'univ', 'univ', 'ne', 'univ', 'ne', 'univ']\n",
    "PoS_Tags = ['ADJ', 'PROPN', 'VERB', 'AUX', 'AUX', 'ADV', 'PUNCT', 'PUNCT', 'PROPN', 'PUNCT', 'PROPN', 'PUNCT']"
   ]
  },
  {
   "cell_type": "code",
<<<<<<< HEAD
   "execution_count": 4,
=======
   "execution_count": 3,
>>>>>>> d3f9b6f1c18af985471d67d8ed2a2109dce2a082
   "id": "a2a91037",
   "metadata": {},
   "outputs": [],
   "source": [
    "lang_tags = ['hi', 'en']\n",
    "other_tags = ['univ', 'ne', 'acro']"
   ]
  },
  {
   "cell_type": "code",
<<<<<<< HEAD
   "execution_count": 16,
=======
   "execution_count": 4,
>>>>>>> d3f9b6f1c18af985471d67d8ed2a2109dce2a082
   "id": "dbd5aa58",
   "metadata": {},
   "outputs": [],
   "source": [
    "metrics = cs_metrics.CodeMixMetrics(lang_tags, other_tags)\n",
    "symcom = cs_metrics.SyMCoM(LID_Tags, PoS_Tags, 'en', 'hi')\n",
    "cm_sentence = cs_metrics.CodeMixSentence(sentence = None, tokens = tokens, LID_Tags = LID_Tags, PoS_Tags = PoS_Tags)"
   ]
  },
  {
   "cell_type": "markdown",
   "id": "3d1935f0",
   "metadata": {},
   "source": [
    "# Metrics"
   ]
  },
  {
   "cell_type": "code",
<<<<<<< HEAD
   "execution_count": 26,
=======
   "execution_count": 5,
>>>>>>> d3f9b6f1c18af985471d67d8ed2a2109dce2a082
   "id": "da43d44d",
   "metadata": {},
   "outputs": [
    {
     "name": "stdout",
     "output_type": "stream",
     "text": [
      "CMI Score: 33.333333333333336\n",
      "M-Index Score: 0.7999999999999999\n",
      "Lang Entropy Score: 0.9182958340544896\n",
      "SPAVG Score: 1\n",
      "I-Index Score: 0.2\n",
      "Burstiness Score: -0.3592455179659185\n",
      "\n",
      "PROPN_symcom : 1.0\n",
      "AUX_symcom : -1.0\n",
      "ADJ_symcom : 1.0\n",
      "VERB_symcom : -1.0\n",
      "ADV_symcom : -1.0\n",
      "SymCom Sentence: 0.6666666666666666\n"
     ]
    }
   ],
   "source": [
    "cmi_score = metrics.cmi(LID_Tags)\n",
    "mindex_score = metrics.mindex(LID_Tags)\n",
    "lang_entropy_score = metrics.lang_entropy(LID_Tags)\n",
    "spavg_score = metrics.spavg(LID_Tags)\n",
    "i_index_score = metrics.i_index(LID_Tags)\n",
    "burstiness_score = metrics.burstiness(LID_Tags)\n",
    "symcom_pos_tags = symcom.symcom_pos_tags(cm_sentence)\n",
    "symcom_sentence = symcom.symcom_sentence(cm_sentence)\n",
    "\n",
    "print(\"CMI Score:\", cmi_score)\n",
    "print(\"M-Index Score:\", mindex_score)\n",
    "print(\"Lang Entropy Score:\", lang_entropy_score)\n",
    "print(\"SPAVG Score:\", spavg_score)\n",
    "print(\"I-Index Score:\", i_index_score)\n",
    "print(\"Burstiness Score:\", burstiness_score)\n",
    "print(\"\")\n",
    "for tag, score in symcom_pos_tags.items():\n",
    "    print(tag, \":\", score)\n",
    "print(\"SymCom Sentence:\", symcom_sentence)"
   ]
  },
  {
   "cell_type": "markdown",
   "id": "0f5a21ba",
   "metadata": {},
   "source": [
    "# Visualization"
   ]
  },
  {
   "cell_type": "code",
<<<<<<< HEAD
   "execution_count": 30,
=======
   "execution_count": 6,
>>>>>>> d3f9b6f1c18af985471d67d8ed2a2109dce2a082
   "id": "eb8c9090",
   "metadata": {},
   "outputs": [],
   "source": [
    "annotation_printer = cv.AnnotatedTextPrinter()"
   ]
  },
  {
   "cell_type": "code",
<<<<<<< HEAD
   "execution_count": 31,
=======
   "execution_count": 7,
>>>>>>> d3f9b6f1c18af985471d67d8ed2a2109dce2a082
   "id": "ed0e1c3f",
   "metadata": {},
   "outputs": [
    {
     "data": {
      "text/html": [
       "<div><span style=\"display:inline-flex;flex-direction:row;align-items:center;background:#afa;border-radius:0.5rem;padding:0.25rem 0.5rem;overflow:hidden;line-height:1\">Gully<span style=\"border-left:1px solid;opacity:0.1;margin-left:0.5rem;align-self:stretch\"></span><span style=\"margin-left:0.5rem;font-size:0.75rem;opacity:0.5\">ADJ</span></span><span style=\"display:inline-flex;flex-direction:row;align-items:center;background:#afa;border-radius:0.5rem;padding:0.25rem 0.5rem;overflow:hidden;line-height:1\">cricket<span style=\"border-left:1px solid;opacity:0.1;margin-left:0.5rem;align-self:stretch\"></span><span style=\"margin-left:0.5rem;font-size:0.75rem;opacity:0.5\">PROPN</span></span><span style=\"display:inline-flex;flex-direction:row;align-items:center;background:#faa;border-radius:0.5rem;padding:0.25rem 0.5rem;overflow:hidden;line-height:1\">चल<span style=\"border-left:1px solid;opacity:0.1;margin-left:0.5rem;align-self:stretch\"></span><span style=\"margin-left:0.5rem;font-size:0.75rem;opacity:0.5\">VERB</span></span><span style=\"display:inline-flex;flex-direction:row;align-items:center;background:#faa;border-radius:0.5rem;padding:0.25rem 0.5rem;overflow:hidden;line-height:1\">रहा<span style=\"border-left:1px solid;opacity:0.1;margin-left:0.5rem;align-self:stretch\"></span><span style=\"margin-left:0.5rem;font-size:0.75rem;opacity:0.5\">AUX</span></span><span style=\"display:inline-flex;flex-direction:row;align-items:center;background:#faa;border-radius:0.5rem;padding:0.25rem 0.5rem;overflow:hidden;line-height:1\">हैं<span style=\"border-left:1px solid;opacity:0.1;margin-left:0.5rem;align-self:stretch\"></span><span style=\"margin-left:0.5rem;font-size:0.75rem;opacity:0.5\">AUX</span></span><span style=\"display:inline-flex;flex-direction:row;align-items:center;background:#faa;border-radius:0.5rem;padding:0.25rem 0.5rem;overflow:hidden;line-height:1\">यहां<span style=\"border-left:1px solid;opacity:0.1;margin-left:0.5rem;align-self:stretch\"></span><span style=\"margin-left:0.5rem;font-size:0.75rem;opacity:0.5\">ADV</span></span><span style=\"display:inline-flex;flex-direction:row;align-items:center;background:#c39;border-radius:0.5rem;padding:0.25rem 0.5rem;overflow:hidden;line-height:1\">&quot;<span style=\"border-left:1px solid;opacity:0.1;margin-left:0.5rem;align-self:stretch\"></span><span style=\"margin-left:0.5rem;font-size:0.75rem;opacity:0.5\">PUNCT</span></span><span style=\"display:inline-flex;flex-direction:row;align-items:center;background:#c39;border-radius:0.5rem;padding:0.25rem 0.5rem;overflow:hidden;line-height:1\">(<span style=\"border-left:1px solid;opacity:0.1;margin-left:0.5rem;align-self:stretch\"></span><span style=\"margin-left:0.5rem;font-size:0.75rem;opacity:0.5\">PUNCT</span></span><span style=\"display:inline-flex;flex-direction:row;align-items:center;background:#8ef;border-radius:0.5rem;padding:0.25rem 0.5rem;overflow:hidden;line-height:1\">Soniya<span style=\"border-left:1px solid;opacity:0.1;margin-left:0.5rem;align-self:stretch\"></span><span style=\"margin-left:0.5rem;font-size:0.75rem;opacity:0.5\">PROPN</span></span><span style=\"display:inline-flex;flex-direction:row;align-items:center;background:#c39;border-radius:0.5rem;padding:0.25rem 0.5rem;overflow:hidden;line-height:1\">)<span style=\"border-left:1px solid;opacity:0.1;margin-left:0.5rem;align-self:stretch\"></span><span style=\"margin-left:0.5rem;font-size:0.75rem;opacity:0.5\">PUNCT</span></span><span style=\"display:inline-flex;flex-direction:row;align-items:center;background:#8ef;border-radius:0.5rem;padding:0.25rem 0.5rem;overflow:hidden;line-height:1\">Gandhi<span style=\"border-left:1px solid;opacity:0.1;margin-left:0.5rem;align-self:stretch\"></span><span style=\"margin-left:0.5rem;font-size:0.75rem;opacity:0.5\">PROPN</span></span><span style=\"display:inline-flex;flex-direction:row;align-items:center;background:#c39;border-radius:0.5rem;padding:0.25rem 0.5rem;overflow:hidden;line-height:1\">&quot;<span style=\"border-left:1px solid;opacity:0.1;margin-left:0.5rem;align-self:stretch\"></span><span style=\"margin-left:0.5rem;font-size:0.75rem;opacity:0.5\">PUNCT</span></span></div>"
      ],
      "text/plain": [
       "<IPython.core.display.HTML object>"
      ]
     },
     "metadata": {},
     "output_type": "display_data"
    },
    {
     "data": {
      "text/html": [
       "<hr>"
      ],
      "text/plain": [
       "<IPython.core.display.HTML object>"
      ]
     },
     "metadata": {},
     "output_type": "display_data"
    }
   ],
   "source": [
    "annotation_printer.print_sample_st_annot_text(tokens, LID_Tags, PoS_Tags)"
   ]
  },
  {
   "cell_type": "code",
<<<<<<< HEAD
   "execution_count": null,
   "id": "1d5278b1",
   "metadata": {},
   "outputs": [],
   "source": []
=======
   "execution_count": 9,
   "id": "1d5278b1",
   "metadata": {},
   "outputs": [
    {
     "name": "stderr",
     "output_type": "stream",
     "text": [
      "0it [00:00, ?it/s]2023-06-17 13:31:54 INFO: Checking for updates to resources.json in case models have been updated.  Note: this behavior can be turned off with download_method=None or download_method=DownloadMethod.REUSE_RESOURCES\n"
     ]
    },
    {
     "data": {
      "application/vnd.jupyter.widget-view+json": {
       "model_id": "56a7a82d9c8f48dfa17898ee4e67299a",
       "version_major": 2,
       "version_minor": 0
      },
      "text/plain": [
       "Downloading https://raw.githubusercontent.com/stanfordnlp/stanza-resources/main/resources_1.5.0.json:   0%|   …"
      ]
     },
     "metadata": {},
     "output_type": "display_data"
    },
    {
     "name": "stderr",
     "output_type": "stream",
     "text": [
      "2023-06-17 13:31:55 INFO: Loading these models for language: en (English):\n",
      "========================\n",
      "| Processor | Package  |\n",
      "------------------------\n",
      "| tokenize  | combined |\n",
      "| pos       | combined |\n",
      "========================\n",
      "\n",
      "2023-06-17 13:31:55 INFO: Using device: cpu\n",
      "2023-06-17 13:31:55 INFO: Loading: tokenize\n",
      "2023-06-17 13:31:55 INFO: Loading: pos\n",
      "2023-06-17 13:31:55 INFO: Done loading processors!\n",
      "2023-06-17 13:31:55 INFO: Checking for updates to resources.json in case models have been updated.  Note: this behavior can be turned off with download_method=None or download_method=DownloadMethod.REUSE_RESOURCES\n"
     ]
    },
    {
     "data": {
      "application/vnd.jupyter.widget-view+json": {
       "model_id": "c13aed1f280a48e7878c85354ee71dff",
       "version_major": 2,
       "version_minor": 0
      },
      "text/plain": [
       "Downloading https://raw.githubusercontent.com/stanfordnlp/stanza-resources/main/resources_1.5.0.json:   0%|   …"
      ]
     },
     "metadata": {},
     "output_type": "display_data"
    },
    {
     "name": "stderr",
     "output_type": "stream",
     "text": [
      "2023-06-17 13:31:55 INFO: Loading these models for language: hi (Hindi):\n",
      "=======================\n",
      "| Processor | Package |\n",
      "-----------------------\n",
      "| tokenize  | hdtb    |\n",
      "| pos       | hdtb    |\n",
      "=======================\n",
      "\n",
      "2023-06-17 13:31:55 INFO: Using device: cpu\n",
      "2023-06-17 13:31:55 INFO: Loading: tokenize\n",
      "2023-06-17 13:31:55 INFO: Loading: pos\n",
      "2023-06-17 13:31:56 INFO: Done loading processors!\n",
      "1it [00:01,  1.44s/it]\n",
      "1it [00:00,  8.33it/s]\n",
      "1it [00:00, 2502.57it/s]"
     ]
    },
    {
     "name": "stdout",
     "output_type": "stream",
     "text": [
      "done\n"
     ]
    },
    {
     "name": "stderr",
     "output_type": "stream",
     "text": [
      "\n"
     ]
    },
    {
     "data": {
      "text/html": [
       "<div>\n",
       "<style scoped>\n",
       "    .dataframe tbody tr th:only-of-type {\n",
       "        vertical-align: middle;\n",
       "    }\n",
       "\n",
       "    .dataframe tbody tr th {\n",
       "        vertical-align: top;\n",
       "    }\n",
       "\n",
       "    .dataframe thead th {\n",
       "        text-align: right;\n",
       "    }\n",
       "</style>\n",
       "<table border=\"1\" class=\"dataframe\">\n",
       "  <thead>\n",
       "    <tr style=\"text-align: right;\">\n",
       "      <th></th>\n",
       "      <th>en</th>\n",
       "      <th>hi</th>\n",
       "      <th>lang1</th>\n",
       "      <th>lang1_tokens</th>\n",
       "      <th>lang1_pos</th>\n",
       "      <th>lang2</th>\n",
       "      <th>lang2_tokens</th>\n",
       "      <th>lang2_pos</th>\n",
       "      <th>alignments_awesomealign</th>\n",
       "      <th>token_alignment_map_awesomealign</th>\n",
       "      <th>codemixed-sentences</th>\n",
       "    </tr>\n",
       "  </thead>\n",
       "  <tbody>\n",
       "    <tr>\n",
       "      <th>0</th>\n",
       "      <td>Okay, how much does it cost?</td>\n",
       "      <td>ठीक है, इसकी लागत कितनी है?</td>\n",
       "      <td>en</td>\n",
       "      <td>[[Okay, ,, how, much, does, it, cost, ?]]</td>\n",
       "      <td>[[INTJ, PUNCT, ADV, ADJ, AUX, PRON, VERB, PUNCT]]</td>\n",
       "      <td>hi</td>\n",
       "      <td>[[ठीक, है, ,, इसकी, लागत, कितनी, है, ?]]</td>\n",
       "      <td>[[ADJ, AUX, PUNCT, PRON, NOUN, PRON, AUX, PUNCT]]</td>\n",
       "      <td>[0-0 0-1 1-2 2-5 3-4 4-6 5-3 6-4 7-7 ]</td>\n",
       "      <td>[{'Okay': 'है', 'ठीक': 'Okay', 'है': 'does', '...</td>\n",
       "      <td>Okay है , इसकी cost कितनी है ?</td>\n",
       "    </tr>\n",
       "  </tbody>\n",
       "</table>\n",
       "</div>"
      ],
      "text/plain": [
       "                             en                           hi lang1  \\\n",
       "0  Okay, how much does it cost?  ठीक है, इसकी लागत कितनी है?    en   \n",
       "\n",
       "                                lang1_tokens  \\\n",
       "0  [[Okay, ,, how, much, does, it, cost, ?]]   \n",
       "\n",
       "                                           lang1_pos lang2  \\\n",
       "0  [[INTJ, PUNCT, ADV, ADJ, AUX, PRON, VERB, PUNCT]]    hi   \n",
       "\n",
       "                               lang2_tokens  \\\n",
       "0  [[ठीक, है, ,, इसकी, लागत, कितनी, है, ?]]   \n",
       "\n",
       "                                           lang2_pos  \\\n",
       "0  [[ADJ, AUX, PUNCT, PRON, NOUN, PRON, AUX, PUNCT]]   \n",
       "\n",
       "                  alignments_awesomealign  \\\n",
       "0  [0-0 0-1 1-2 2-5 3-4 4-6 5-3 6-4 7-7 ]   \n",
       "\n",
       "                    token_alignment_map_awesomealign  \\\n",
       "0  [{'Okay': 'है', 'ठीक': 'Okay', 'है': 'does', '...   \n",
       "\n",
       "               codemixed-sentences  \n",
       "0   Okay है , इसकी cost कितनी है ?  "
      ]
     },
     "execution_count": 9,
     "metadata": {},
     "output_type": "execute_result"
    }
   ],
   "source": [
    "filename = \"unique_utterances_en_hi_transltions.json\"\n",
    "df_codemixed = tpa.get_codemix_candidates_for_file(filename)\n",
    "df_codemixed"
   ]
>>>>>>> d3f9b6f1c18af985471d67d8ed2a2109dce2a082
  },
  {
   "cell_type": "code",
   "execution_count": null,
   "id": "a6c72d5c",
   "metadata": {},
   "outputs": [],
   "source": []
  },
  {
   "cell_type": "code",
   "execution_count": null,
   "id": "f99c590f",
   "metadata": {},
   "outputs": [],
   "source": []
  },
  {
   "cell_type": "code",
   "execution_count": null,
   "id": "22841432",
   "metadata": {},
   "outputs": [],
   "source": []
  }
 ],
 "metadata": {
  "kernelspec": {
   "display_name": "Python 3 (ipykernel)",
   "language": "python",
   "name": "python3"
  },
  "language_info": {
   "codemirror_mode": {
    "name": "ipython",
    "version": 3
   },
   "file_extension": ".py",
   "mimetype": "text/x-python",
   "name": "python",
   "nbconvert_exporter": "python",
   "pygments_lexer": "ipython3",
   "version": "3.11.3"
  }
 },
 "nbformat": 4,
 "nbformat_minor": 5
}
